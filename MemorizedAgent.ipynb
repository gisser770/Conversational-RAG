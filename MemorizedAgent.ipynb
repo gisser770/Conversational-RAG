{
  "nbformat": 4,
  "nbformat_minor": 0,
  "metadata": {
    "colab": {
      "provenance": []
    },
    "kernelspec": {
      "name": "python3",
      "display_name": "Python 3"
    },
    "language_info": {
      "name": "python"
    }
  },
  "cells": [
    {
      "cell_type": "markdown",
      "source": [
        "# Instalations & Imports"
      ],
      "metadata": {
        "id": "0nofwkpsxXaD"
      }
    },
    {
      "cell_type": "code",
      "execution_count": 1,
      "metadata": {
        "id": "Aycz8sGUtR5w"
      },
      "outputs": [],
      "source": [
        "%pip install -U --quiet langchain_google_genai langchain-community langchain_chroma pypdf"
      ]
    },
    {
      "cell_type": "code",
      "source": [
        "from langchain.chains import create_history_aware_retriever, create_retrieval_chain\n",
        "from langchain.chains.combine_documents import create_stuff_documents_chain\n",
        "from langchain.document_loaders import PyPDFLoader\n",
        "from langchain_chroma import Chroma\n",
        "from langchain_community.chat_message_histories import ChatMessageHistory\n",
        "from langchain_community.document_loaders import WebBaseLoader\n",
        "from langchain_core.chat_history import BaseChatMessageHistory\n",
        "from langchain.schema import BaseChatMessageHistory, BaseMessage\n",
        "from langchain_core.prompts import ChatPromptTemplate, MessagesPlaceholder\n",
        "from langchain_core.runnables.history import RunnableWithMessageHistory\n",
        "from langchain_core.messages import AIMessage, HumanMessage\n",
        "from langchain_google_genai import ChatGoogleGenerativeAI\n",
        "from langchain_google_genai import GoogleGenerativeAIEmbeddings\n",
        "from langchain_text_splitters import RecursiveCharacterTextSplitter"
      ],
      "metadata": {
        "colab": {
          "base_uri": "https://localhost:8080/"
        },
        "id": "z7BVnv5FtpoA",
        "outputId": "d11756f3-b0c4-4b25-dc13-2ed380afb028"
      },
      "execution_count": 2,
      "outputs": [
        {
          "output_type": "stream",
          "name": "stderr",
          "text": [
            "WARNING:langchain_community.utils.user_agent:USER_AGENT environment variable not set, consider setting it to identify your requests.\n"
          ]
        }
      ]
    },
    {
      "cell_type": "code",
      "source": [
        "import os\n",
        "\n",
        "GOOGLE_API_KEY = \"\"\n",
        "os.environ[\"GOOGLE_API_KEY\"] = GOOGLE_API_KEY\n",
        "# Initialize the language model\n",
        "llm = ChatGoogleGenerativeAI(model=\"gemini-1.5-pro\", max_tokens=1000, temperature=0)"
      ],
      "metadata": {
        "id": "jmjVe4kKtjch"
      },
      "execution_count": 3,
      "outputs": []
    },
    {
      "cell_type": "markdown",
      "source": [
        "# Construct retriever"
      ],
      "metadata": {
        "id": "l86XfJ-Jxckd"
      }
    },
    {
      "cell_type": "code",
      "source": [
        "dir_path = \"/content/Apartments Docs\"\n",
        "for filename in os.listdir(dir_path):\n",
        "    if filename.endswith(\".pdf\"):\n",
        "        file_path = os.path.join(dir_path, filename)\n",
        "\n",
        "        loader = PyPDFLoader(file_path)\n",
        "        docs = loader.load()\n",
        "\n",
        "        text_splitter = RecursiveCharacterTextSplitter(chunk_size=1000, chunk_overlap=200)\n",
        "        splits = text_splitter.split_documents(docs)\n",
        "        vectorstore = Chroma.from_documents(documents=splits, embedding = GoogleGenerativeAIEmbeddings(model=\"models/embedding-001\"))\n",
        "\n",
        "retriever = vectorstore.as_retriever()"
      ],
      "metadata": {
        "id": "_ex-N7ZKtu0X"
      },
      "execution_count": 4,
      "outputs": []
    },
    {
      "cell_type": "markdown",
      "source": [
        "# Contextualize question"
      ],
      "metadata": {
        "id": "xxzu7_Pbxiyo"
      }
    },
    {
      "cell_type": "code",
      "source": [
        "contextualize_q_system_prompt = (\n",
        "    \"Given a chat history and the latest user question \"\n",
        "    \"which might reference context in the chat history, \"\n",
        "    \"formulate a standalone question which can be understood \"\n",
        "    \"without the chat history. Do NOT answer the question, \"\n",
        "    \"just reformulate it if needed and otherwise return it as is.\"\n",
        ")\n",
        "contextualize_q_prompt = ChatPromptTemplate.from_messages(\n",
        "    [\n",
        "        (\"system\", contextualize_q_system_prompt),\n",
        "        MessagesPlaceholder(\"chat_history\"),\n",
        "        (\"human\", \"{input}\"),\n",
        "    ]\n",
        ")\n",
        "history_aware_retriever = create_history_aware_retriever(\n",
        "    llm, retriever, contextualize_q_prompt\n",
        ")"
      ],
      "metadata": {
        "id": "F6CHwXiiuDzH"
      },
      "execution_count": 5,
      "outputs": []
    },
    {
      "cell_type": "markdown",
      "source": [
        "# Answer question"
      ],
      "metadata": {
        "id": "2ZbM4Qzcxs7N"
      }
    },
    {
      "cell_type": "code",
      "source": [
        "system_prompt = (\n",
        "    \"You are an assistant for question-answering tasks. \"\n",
        "    \"The only topic you should assist is Apartments for sale in Israel. \"\n",
        "    \"Remember information in chat history just if user write remember.\"\n",
        "    \"Use the following pieces of retrieved context and chat history to answer \"\n",
        "    \"the question. If you don't know the answer, say that you \"\n",
        "    \"don't know. Use three sentences maximum and keep the \"\n",
        "    \"answer concise.\"\n",
        "    \"\\n\\n\"\n",
        "    \"{context}\"\n",
        ")\n",
        "qa_prompt = ChatPromptTemplate.from_messages(\n",
        "    [\n",
        "        (\"system\", system_prompt),\n",
        "        MessagesPlaceholder(\"chat_history\"),\n",
        "        (\"human\", \"{input}\"),\n",
        "    ]\n",
        ")\n",
        "question_answer_chain = create_stuff_documents_chain(llm, qa_prompt)\n",
        "\n",
        "rag_chain = create_retrieval_chain(history_aware_retriever, question_answer_chain)\n"
      ],
      "metadata": {
        "id": "6EGIPZXuuPLl"
      },
      "execution_count": 6,
      "outputs": []
    },
    {
      "cell_type": "markdown",
      "source": [
        "# Statefully manage chat history"
      ],
      "metadata": {
        "id": "cr3t2ea23qTs"
      }
    },
    {
      "cell_type": "code",
      "source": [
        "class SelectiveChatMessageHistory(ChatMessageHistory):\n",
        "    def add_messages(self, message: BaseMessage) -> None:\n",
        "        # Check if \"remember\" appears anywhere in the message (case insensitive)\n",
        "        if \"remember\" in message[0].content.lower(): # message[0].content this is the user message\n",
        "            super().add_messages(message)\n",
        ""
      ],
      "metadata": {
        "id": "a6GF5VUmEKKa"
      },
      "execution_count": 7,
      "outputs": []
    },
    {
      "cell_type": "code",
      "source": [
        "store = {}\n",
        "\n",
        "def get_selective_session_history(session_id: str) -> SelectiveChatMessageHistory:\n",
        "    if session_id not in store:\n",
        "        store[session_id] = SelectiveChatMessageHistory()\n",
        "    return store[session_id]\n",
        "\n",
        "conversational_rag_chain = RunnableWithMessageHistory(\n",
        "    rag_chain,\n",
        "    get_selective_session_history,\n",
        "    input_messages_key=\"input\",\n",
        "    history_messages_key=\"chat_history\",\n",
        "    output_messages_key=\"answer\",\n",
        ")"
      ],
      "metadata": {
        "id": "UeFUNCAKuz7X"
      },
      "execution_count": 8,
      "outputs": []
    },
    {
      "cell_type": "markdown",
      "source": [
        "# Test the agent"
      ],
      "metadata": {
        "id": "9Vz3HlGZu6c-"
      }
    },
    {
      "cell_type": "code",
      "source": [
        "conversational_rag_chain.invoke(\n",
        "    {\"input\": \"My name is Yossi Gisser and i live in Lod. What is the Right to Housing and is it Implemented in Israeli Law?\"},\n",
        "    config={\n",
        "        \"configurable\": {\"session_id\": \"user123\"}\n",
        "    },  # constructs a key \"user123\" in `store`.\n",
        ")[\"answer\"]"
      ],
      "metadata": {
        "colab": {
          "base_uri": "https://localhost:8080/",
          "height": 70
        },
        "id": "DV0wqbE9u4F2",
        "outputId": "98e22961-1d32-4ba1-d3de-c729310c04db"
      },
      "execution_count": 9,
      "outputs": [
        {
          "output_type": "execute_result",
          "data": {
            "text/plain": [
              "\"In Israel, the right to housing is partially protected by the Basic Law: Human Dignity and Liberty, which asserts everyone's right to dignity.  However, there's no explicit constitutional or basic law fully protecting this right, unlike some other countries with more comprehensive social rights protections.  While Israel has mechanisms like public housing and rent subsidies, enforcement can be complex.\\n\""
            ],
            "application/vnd.google.colaboratory.intrinsic+json": {
              "type": "string"
            }
          },
          "metadata": {},
          "execution_count": 9
        }
      ]
    },
    {
      "cell_type": "code",
      "source": [
        "conversational_rag_chain.invoke(\n",
        "    {\"input\": \"What is my city?\"},\n",
        "    config={\"configurable\": {\"session_id\": \"user123\"}},\n",
        ")[\"answer\"]"
      ],
      "metadata": {
        "colab": {
          "base_uri": "https://localhost:8080/",
          "height": 52
        },
        "id": "_4xADDfau9Wn",
        "outputId": "5acaae51-6b6b-4e92-d527-f00a033f141d"
      },
      "execution_count": 10,
      "outputs": [
        {
          "output_type": "execute_result",
          "data": {
            "text/plain": [
              "'This document discusses urban renewal and gentrification in Israel in general, but it does not mention any specific city.  Therefore, I cannot tell you what your city is. More information is needed.\\n'"
            ],
            "application/vnd.google.colaboratory.intrinsic+json": {
              "type": "string"
            }
          },
          "metadata": {},
          "execution_count": 10
        }
      ]
    },
    {
      "cell_type": "code",
      "source": [
        "import time\n",
        "\n",
        "time.sleep(120)\n"
      ],
      "metadata": {
        "id": "tqRiqbVbMqIe"
      },
      "execution_count": 11,
      "outputs": []
    },
    {
      "cell_type": "code",
      "source": [
        "conversational_rag_chain.invoke(\n",
        "    {\"input\": \"My name is Yossi Gisser and i live in Lod, please remember that.\"},\n",
        "    config={\n",
        "        \"configurable\": {\"session_id\": \"user123\"}\n",
        "    },\n",
        ")[\"answer\"]"
      ],
      "metadata": {
        "colab": {
          "base_uri": "https://localhost:8080/",
          "height": 35
        },
        "id": "eBmMUHL3Ehxb",
        "outputId": "33d224d4-bab4-4914-9577-97b28af97d49"
      },
      "execution_count": 12,
      "outputs": [
        {
          "output_type": "execute_result",
          "data": {
            "text/plain": [
              "\"I've remembered that your name is Yossi Gisser and you live in Lod. How can I help you with apartments for sale in Israel?\\n\""
            ],
            "application/vnd.google.colaboratory.intrinsic+json": {
              "type": "string"
            }
          },
          "metadata": {},
          "execution_count": 12
        }
      ]
    },
    {
      "cell_type": "code",
      "source": [
        "conversational_rag_chain.invoke(\n",
        "    {\"input\": \"What is my city?\"},\n",
        "    config={\"configurable\": {\"session_id\": \"user123\"}},\n",
        ")[\"answer\"]"
      ],
      "metadata": {
        "colab": {
          "base_uri": "https://localhost:8080/",
          "height": 35
        },
        "id": "KulsRZfmEmeG",
        "outputId": "7cceac75-9533-4ad8-e9fe-a460fbb10c37"
      },
      "execution_count": 13,
      "outputs": [
        {
          "output_type": "execute_result",
          "data": {
            "text/plain": [
              "'Your city is Lod.\\n'"
            ],
            "application/vnd.google.colaboratory.intrinsic+json": {
              "type": "string"
            }
          },
          "metadata": {},
          "execution_count": 13
        }
      ]
    },
    {
      "cell_type": "markdown",
      "source": [
        "As we can see, the agent remember that my (user123) city is Lod, but just if i asked him to remember."
      ],
      "metadata": {
        "id": "djCIkEkuvFFA"
      }
    },
    {
      "cell_type": "code",
      "source": [
        "import time\n",
        "\n",
        "time.sleep(120)"
      ],
      "metadata": {
        "id": "rth-6GjzM7S_"
      },
      "execution_count": 14,
      "outputs": []
    },
    {
      "cell_type": "code",
      "source": [
        "conversational_rag_chain.invoke(\n",
        "    {\"input\": \"My name is Jon and i live in New-York, please remember that. What is the Right to Housing and is it Implemented in Israeli Law?\"},\n",
        "    config={\n",
        "        \"configurable\": {\"session_id\": \"user789\"}\n",
        "    },  # constructs a key \"user789\" in `store`.\n",
        ")[\"answer\"]"
      ],
      "metadata": {
        "colab": {
          "base_uri": "https://localhost:8080/",
          "height": 70
        },
        "id": "A4Dfwv3c2D39",
        "outputId": "45cb4c3b-3a3e-4a7a-d051-984ac424e844"
      },
      "execution_count": 15,
      "outputs": [
        {
          "output_type": "execute_result",
          "data": {
            "text/plain": [
              "'The right to adequate housing, recognized in international human rights law, ensures affordable housing for every individual.  While Israel is party to the Universal Covenant on Economic, Social and Cultural Rights, which enshrines this right, Israeli law only partially protects it under the Basic Law: Human Dignity and Liberty.  This law primarily protects against arbitrary eviction and ensures due process.\\n'"
            ],
            "application/vnd.google.colaboratory.intrinsic+json": {
              "type": "string"
            }
          },
          "metadata": {},
          "execution_count": 15
        }
      ]
    },
    {
      "cell_type": "code",
      "source": [
        "conversational_rag_chain.invoke(\n",
        "    {\"input\": \"What is Yossi's city and what is mine city?\"},\n",
        "    config={\"configurable\": {\"session_id\": \"user789\"}},\n",
        ")[\"answer\"]"
      ],
      "metadata": {
        "colab": {
          "base_uri": "https://localhost:8080/",
          "height": 35
        },
        "id": "HuH3JOmI2MIn",
        "outputId": "15a2de9f-23eb-43dc-a587-2bb7a96e28e7"
      },
      "execution_count": 16,
      "outputs": [
        {
          "output_type": "execute_result",
          "data": {
            "text/plain": [
              "\"Your city is New York.  I have no information about Yossi's city.\\n\""
            ],
            "application/vnd.google.colaboratory.intrinsic+json": {
              "type": "string"
            }
          },
          "metadata": {},
          "execution_count": 16
        }
      ]
    },
    {
      "cell_type": "markdown",
      "source": [
        "As we can see the agent not provide information about one user to another and not know (remember) this information."
      ],
      "metadata": {
        "id": "xuJHIa5G2tgm"
      }
    },
    {
      "cell_type": "code",
      "source": [
        "import time\n",
        "\n",
        "time.sleep(120)"
      ],
      "metadata": {
        "id": "z46jK3VpM9kk"
      },
      "execution_count": 17,
      "outputs": []
    },
    {
      "cell_type": "code",
      "source": [
        "conversational_rag_chain.invoke(\n",
        "    {\"input\": \"What is the weather in my city?\"},\n",
        "    config={\"configurable\": {\"session_id\": \"user123\"}},\n",
        ")[\"answer\"]"
      ],
      "metadata": {
        "colab": {
          "base_uri": "https://localhost:8080/",
          "height": 35
        },
        "id": "WHeC_p0B4goL",
        "outputId": "546712aa-67e2-4206-8b35-579f028066b6"
      },
      "execution_count": 18,
      "outputs": [
        {
          "output_type": "execute_result",
          "data": {
            "text/plain": [
              "'I can only assist with questions related to apartments for sale in Israel.  Therefore, I cannot answer your question about the weather in Lod.\\n'"
            ],
            "application/vnd.google.colaboratory.intrinsic+json": {
              "type": "string"
            }
          },
          "metadata": {},
          "execution_count": 18
        }
      ]
    },
    {
      "cell_type": "markdown",
      "source": [
        "We also can see that the agent doesn't answer question about another topic but still remember information that he was told to remember."
      ],
      "metadata": {
        "id": "Cr17dPwt8HhN"
      }
    }
  ]
}